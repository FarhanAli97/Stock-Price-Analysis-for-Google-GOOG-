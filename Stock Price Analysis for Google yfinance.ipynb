{
 "cells": [
  {
   "cell_type": "code",
   "execution_count": null,
   "metadata": {},
   "outputs": [
    {
     "name": "stdout",
     "output_type": "stream",
     "text": [
      "Last closing price: 170.49000549316406\n",
      "                               Open      High       Low     Close     Volume  \\\n",
      "Date                                                                           \n",
      "2004-08-19 00:00:00-04:00  2.484562  2.585435  2.384187  2.493011  897427216   \n",
      "2004-08-20 00:00:00-04:00  2.509657  2.710161  2.496986  2.691030  458857488   \n",
      "2004-08-23 00:00:00-04:00  2.751654  2.819482  2.709416  2.718112  366857939   \n",
      "2004-08-24 00:00:00-04:00  2.763828  2.772772  2.573261  2.605561  306396159   \n",
      "2004-08-25 00:00:00-04:00  2.607797  2.683328  2.580964  2.633636  184645512   \n",
      "\n",
      "                           Dividends  Stock Splits  \n",
      "Date                                                \n",
      "2004-08-19 00:00:00-04:00        0.0           0.0  \n",
      "2004-08-20 00:00:00-04:00        0.0           0.0  \n",
      "2004-08-23 00:00:00-04:00        0.0           0.0  \n",
      "2004-08-24 00:00:00-04:00        0.0           0.0  \n",
      "2004-08-25 00:00:00-04:00        0.0           0.0  \n",
      "Shape of the DataFrame: (5106, 7)\n"
     ]
    }
   ],
   "source": [
    "# Import libraries\n",
    "import pandas as pd\n",
    "import yfinance as yf\n",
    "import datetime as dt\n",
    "from datetime import date, timedelta\n",
    "\n",
    "# Get today's date\n",
    "today = date.today()\n",
    "d1 = today.strftime('%Y-%m-%d')  # Corrected to use %Y for full year\n",
    "d2 = (today - timedelta(days=365)).strftime('%Y-%m-%d')  # Corrected to use %Y\n",
    "\n",
    "start_date = d2\n",
    "end_date = d1\n",
    "\n",
    "# Define ticker symbol\n",
    "tickerSymbol = 'GOOG'\n",
    "\n",
    "# Get data on this ticker\n",
    "tickerData = yf.Ticker(tickerSymbol)  # Fixed the typo here\n",
    "\n",
    "# Get the historical prices for the ticker\n",
    "tickerDf = tickerData.history(period='1d', start='2004-08-04', end='2024-11-30')\n",
    "\n",
    "# Last closing price\n",
    "last_closing_price = tickerDf['Close'].iloc[-1]\n",
    "print(\"Last closing price:\", last_closing_price)\n",
    "\n",
    "# Get the data\n",
    "print(tickerDf.head())\n",
    "print(\"Shape of the DataFrame:\", tickerDf.shape)\n",
    "tickerDf.to_csv('GOOGLE (GOOG) From Aug-2004 To Nov-2024.csv')\n"
   ]
  },
  {
   "cell_type": "code",
   "execution_count": null,
   "metadata": {},
   "outputs": [],
   "source": []
  }
 ],
 "metadata": {
  "kernelspec": {
   "display_name": "Python 3",
   "language": "python",
   "name": "python3"
  },
  "language_info": {
   "codemirror_mode": {
    "name": "ipython",
    "version": 3
   },
   "file_extension": ".py",
   "mimetype": "text/x-python",
   "name": "python",
   "nbconvert_exporter": "python",
   "pygments_lexer": "ipython3",
   "version": "3.12.5"
  }
 },
 "nbformat": 4,
 "nbformat_minor": 2
}
